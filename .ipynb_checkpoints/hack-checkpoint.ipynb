{
 "cells": [
  {
   "cell_type": "markdown",
   "metadata": {},
   "source": [
    "# Hackathon Santander"
   ]
  },
  {
   "cell_type": "markdown",
   "metadata": {},
   "source": [
    "A pergunta mais importante a ser feita durante todo esse desafio écomo podemos ajudar os pequenos empreendedores e a sociedade em geral a superarem essa crise que está sendo gerada pela pandemia?\n",
    "\n",
    "Não sabemos a resposta precisa para tal pergunta, mas analisando diversos dados de instuições brasileiras é possível obter insights sobre como ajudar os pequenos empreendedores"
   ]
  },
  {
   "cell_type": "code",
   "execution_count": null,
   "metadata": {},
   "outputs": [],
   "source": [
    "# Bibliotecas para a aplicação\n",
    "\n",
    "import pandas as pd\n",
    "import matplotlib.pyplot as plt\n",
    "from pytrends.request import TrendReq\n",
    "import plotly.express as px\n",
    "import plotly.offline as pyo\n",
    "import plotly.graph_objs as go\n",
    "from plotly.subplots import make_subplots\n",
    "import folium\n",
    "import json\n",
    "from branca.colormap import linear\n",
    "\n",
    "# Set notebook mode to work in offline\n",
    "pyo.init_notebook_mode()\n",
    "\n",
    "%matplotlib inline"
   ]
  },
  {
   "cell_type": "markdown",
   "metadata": {},
   "source": [
    "# Primeira Análise: Correlação entre a base de dados da OList e da ferramenta Google Trends"
   ]
  },
  {
   "cell_type": "markdown",
   "metadata": {},
   "source": [
    "## Dados da empresa OList \n",
    "\n",
    "Antes de tudo. O que é a OList? \n",
    "\n",
    "Pegando a própria descrição do site deles.\n",
    "\n",
    "\"Cadastre os produtos na plataforma olist e passe a vender na nossa loja dentro dos <strong>principais canais online do Brasil</strong>. Nossa alta reputação permite que os lojistas parceiros do olist ocupem posições de destaque dentro dos maiores marketplaces, aumentando assim as suas chances de venda.\"\n",
    "\n",
    "Utilizando essa base de dados da OList conseguimos ter insights de quais são as categorias mais procuradas pelos clientes assim como as categorias de produtos menos procuradas. \n",
    "\n",
    "<strong>E porque isso é importante?</strong> \n",
    "\n",
    "Conseguindo saber quais categorias de produtos são as menos vendidas podemos utilizar o <strong>Google Trends</strong>  para pesquisar como essas categorias vem sendo pesquisadas durante a pandemia. Interligando essas duas bases de dados, tanto do e-commerce OList quanto do Google trends podemos ter resultados valiosos para os pequenos empreeendores brasileiros."
   ]
  },
  {
   "cell_type": "markdown",
   "metadata": {},
   "source": [
    "### Base de dados da OList\n",
    "\n",
    "Logo abaixo é possível visualizar uma prévia da base de dados da OList"
   ]
  },
  {
   "cell_type": "code",
   "execution_count": null,
   "metadata": {
    "scrolled": true
   },
   "outputs": [],
   "source": [
    "df_olist_prod = pd.read_csv('../Dados/DadosOList/55151_195341_bundle_archive/olist_products_dataset.csv')\n",
    "df_olist_prod.head()"
   ]
  },
  {
   "cell_type": "markdown",
   "metadata": {},
   "source": [
    "### Data cleaning da Base de dados\n",
    "\n",
    "A seguir realizamos uma série de operações para conseguirmos as categorias apresentadas na base de dados da OList. Além disso, para melhorar a pesquisa no Google trands, alteramos nomes de algumas categorias de forma a conseguir resultados mais precisos. \n",
    "\n",
    "<strong>Exemplo</strong>: uma categoria da base de dados se chamava <em>\"construcao ferramentas jardim\"</em> ao invés de pesquisar esse resultado no Google trends, alteramos para <em>\"ferramentas de jardim\"</em>. "
   ]
  },
  {
   "cell_type": "code",
   "execution_count": null,
   "metadata": {},
   "outputs": [],
   "source": [
    "df_dg_prod = df_olist_prod.groupby(by='product_category_name').sum()\n",
    "df_dg_prod.head()"
   ]
  },
  {
   "cell_type": "code",
   "execution_count": null,
   "metadata": {},
   "outputs": [],
   "source": [
    "arr_prod_category = df_dg_prod.index\n",
    "\n",
    "## remover underlines\n",
    "arr_prod_category = [word.replace('_', ' ') for word in arr_prod_category] \n",
    "\n",
    "## retirar numeros\n",
    "for i in range(len(arr_prod_category)):\n",
    "    arr_prod_category[i] = ''.join([c for c in arr_prod_category[i] if not c.isdigit()])\n",
    "    \n",
    "## remover white spaces\n",
    "arr_prod_category = [word.strip() for word in arr_prod_category] \n",
    "\n",
    "## remover duplicates\n",
    "res = [] \n",
    "for i in arr_prod_category: \n",
    "    if i not in res: \n",
    "        res.append(i) \n",
    "arr_prod_category = res\n",
    "\n",
    "## remover elementos não essenciais para a análise\n",
    "el = ['cds dvds musicais', 'dvds blu ray', 'cine foto', 'construcao ferramentas iluminacao', \n",
    "        'construcao ferramentas construcao', 'construcao ferramentas ferramentas',\n",
    "        'construcao ferramentas jardim', 'construcao ferramentas seguranca', 'ferramentas jardim',\n",
    "        'livros interesse geral', 'portateis cozinha e preparadores de alimentos', 'moveis colchao e estofado',\n",
    "        'moveis cozinha area de servico jantar e jardim', 'portateis casa forno e cafe', 'sinalizacao e seguranca',\n",
    "        'tablets impressao imagem', 'relogios presentes', 'pcs', 'cama mesa banho', 'beleza saude']\n",
    "for i in el:\n",
    "    arr_prod_category.remove(i)\n",
    "arr_prod_category = [ x for x in arr_prod_category if \"underwear\" not in x ]\n",
    "\n",
    "## alterar escrita de elementos para uma melhor pesquisa\n",
    "add = ['ferramentas de construcao', 'materiais de iluminacao', 'ferramentas de jardim',\n",
    "              'ferramentas de segurança', 'underwear', 'roupa de praia', 'livros', \n",
    "              'colchão', 'estofado', 'forno', 'cafe', 'sinalização',\n",
    "              'tablets', 'relogios', 'computadores', 'cama', 'mesa', 'produtos de banho',\n",
    "              'produtos de beleza']\n",
    "\n",
    "## remover a palavra fashion\n",
    "arr_prod_category = [word.replace('fashion', '') for word in arr_prod_category] \n",
    "\n",
    "for i in add:\n",
    "    arr_prod_category.append(i)\n",
    "    \n",
    "## remover white spaces\n",
    "arr_prod_category = [word.strip() for word in arr_prod_category] \n",
    "\n",
    "print(arr_prod_category)"
   ]
  },
  {
   "cell_type": "markdown",
   "metadata": {},
   "source": [
    "Abaixo podemos ver todas as categorias da base dados do OList"
   ]
  },
  {
   "cell_type": "code",
   "execution_count": null,
   "metadata": {
    "scrolled": true
   },
   "outputs": [],
   "source": [
    "with pd.option_context('display.max_rows', None, 'display.max_columns', None):  # more options can be specified also\n",
    "    print(pd.DataFrame(arr_prod_category, columns=['Categorias']) )"
   ]
  },
  {
   "cell_type": "markdown",
   "metadata": {},
   "source": [
    "## Gráfico do Google Trends para cada categoria\n",
    "\n",
    "Cruiamos uma função para mostrar a quantidade de pesquisas relacionadas a cada categoria de produto. \n",
    "Interelacionamos as categorias da tabela do OList junto com o Google Trends para que tenhamos uma noção \n",
    "de demanda por aquele produto no tempo. "
   ]
  },
  {
   "cell_type": "code",
   "execution_count": null,
   "metadata": {},
   "outputs": [],
   "source": [
    "def plotInterestOverTime(arr_prod_category, start_date):\n",
    "    pytrend = TrendReq()\n",
    "    fig = go.Figure()\n",
    "    \n",
    "    j = 0\n",
    "    for i in arr_prod_category:\n",
    "        pytrend.build_payload(kw_list=[i])\n",
    "        \n",
    "        df_py_trend = pytrend.interest_over_time()\n",
    "        \n",
    "        df_py_trend.index = pd.to_datetime(df_py_trend.index)\n",
    "        df_py_trend['month'] = df_py_trend.index.month\n",
    "        df_py_trend['year'] = df_py_trend.index.year\n",
    "        df_py_trend['Date'] = pd.to_datetime(df_py_trend[['year', 'month']].assign(DAY=1))\n",
    "\n",
    "        ## Filtrar data\n",
    "        df_py_trend = df_py_trend[df_py_trend['Date'] >= start_date]\n",
    "\n",
    "        fig.add_trace(go.Scatter(x=df_py_trend.index, y=df_py_trend[i],\n",
    "                    mode='lines',\n",
    "                    name=arr_prod_category[j]))\n",
    "        \n",
    "        j+=1\n",
    "        \n",
    "    fig.show()\n"
   ]
  },
  {
   "cell_type": "markdown",
   "metadata": {},
   "source": [
    "### Gráfico do Google Trends para cada categoria de 2018 até 2020\n",
    "\n",
    "Como temos muitas categorias a serem plotadas o gráfico abaixo fica difícil de ser visualizado e sem muitas informações. Seguindo as recomendações do artigo <strong>Graphic Lies, Misleading Visuals</strong> citado nas referências abaixo, criamos outros gráficos com menos informações. Contudo, as informações são mais valiosas e mais precisas."
   ]
  },
  {
   "cell_type": "code",
   "execution_count": null,
   "metadata": {},
   "outputs": [],
   "source": [
    "plotInterestOverTime(arr_prod_category, '2018-01-01')"
   ]
  },
  {
   "cell_type": "markdown",
   "metadata": {},
   "source": [
    "## Gráfico do Google Trends para cada categoria de 2018 até 2020 FILTRADO\n",
    "\n",
    "Sabendo que os dados da OList são de 2018, e sabendo que utilizamos os resultados do Google trends para visualizar a sua demanda com relação ao tempo, o nosso filtro e os nossos gráficos tem como objetivo observar os seguintes pontos:\n",
    "\n",
    "- Quais categorias de produtos na base de dados da OList que estavam em <strong>alta</strong> no período de criação da tabela continuaram em <strong>alta</strong> durante o período da pandemia.\n",
    "- Quais categorias de produtos na base de dados da OList que estavam em <strong>baixa</strong> no período de criação da tabela passaram a estar em <strong>alta</strong> durante o período da pandemia.\n",
    "- Quais categorias de produtos na base de dados da OList que estavam em <strong>alta</strong> no período de criação da tabela passaram a estar em <strong>baixa</strong> durante o período da pandemia.\n",
    "- Quais categorias de produtos na base de dados da OList que estavam em <strong>baixa</strong> no período de criação da tabela passaram a estar em <strong>baixa</strong> durante o período da pandemia.\n",
    "\n",
    "Logo, para conserguirmos observar tais resultados. Escolhemos da tabela da OList 5 categorias de produtos entre as 10 mais vendidas e 5 categorias de produtos entre as 20 menos vendidas. \n"
   ]
  },
  {
   "cell_type": "markdown",
   "metadata": {},
   "source": [
    "## Tableu\n",
    "\n",
    "Para conseguir obter quais produtos eram mais desejados na OList e quais eram menos desejados utilizou-se a ferramenta Tableu. O qual pode ser visualizado sobre o link abaixo.\n",
    "\n",
    "LINK: https://public.tableau.com/profile/denis.dinardi#!/vizhome/Anlisedevendas-OLIST/Anlisedevendas?publish=yes"
   ]
  },
  {
   "cell_type": "markdown",
   "metadata": {},
   "source": [
    "### Gráfico do Google Trends para cada categoria entre as menos procuradas na tabela da OList de 2018 até 2020 "
   ]
  },
  {
   "cell_type": "code",
   "execution_count": null,
   "metadata": {},
   "outputs": [],
   "source": [
    "produtos_menos_desejados = ['artigos de natal', 'flores', 'instrumentos musicais', 'artigos de festa',\n",
    "                            'artes e artesanato']\n",
    "plotInterestOverTime(produtos_menos_desejados, '2018-01-01')"
   ]
  },
  {
   "cell_type": "markdown",
   "metadata": {},
   "source": [
    "### Gráfico do Google Trends para cada categoria entre as menos procuradas na tabela da OList de 2018 até 2020 "
   ]
  },
  {
   "cell_type": "code",
   "execution_count": null,
   "metadata": {
    "scrolled": false
   },
   "outputs": [],
   "source": [
    "produtos_mais_desejados = ['produtos de banho', 'cama', 'mesa', 'móveis', 'produtos de beleza']\n",
    "plotInterestOverTime(produtos_mais_desejados, '2018-01-01')"
   ]
  },
  {
   "cell_type": "markdown",
   "metadata": {},
   "source": [
    "## Análise mais <em>profunda</em> de nossos resultados\n",
    "\n",
    "Para obter insights ainda mais precisos sobre a demanda de cada produto durante o tempo é preciso entender o quanto cada categoria cresceu / diminuiu durante a pandemia. "
   ]
  },
  {
   "cell_type": "markdown",
   "metadata": {},
   "source": [
    "Para cada uma das categorias tanto das categorias mais procuradas quando para as menos procuradas na base de dados da OList criamos gráficos do tipo BoxPlot. Os quais irão nos informar de um ponto de vista mais preciso a diferença entre uma categoria e outra. \n",
    "\n",
    "<strong>O boxplot (gráfico de caixa)</strong> é um gráfico utilizado para avaliar a distribuição empírica do dados. O boxplot é formado pelo primeiro e terceiro quartil e pela mediana. As hastes inferiores e superiores se estendem, respectivamente, do quartil inferior até o menor valor não inferior ao limite inferior e do quartil superior até o maior valor não superior ao limite superior. "
   ]
  },
  {
   "cell_type": "code",
   "execution_count": null,
   "metadata": {},
   "outputs": [],
   "source": [
    "def plotTrendBoxPlot(arr_prod_category, start_date):\n",
    "    pytrend = TrendReq()\n",
    "    fig = go.Figure()\n",
    "    \n",
    "    j = 0\n",
    "    for i in arr_prod_category:\n",
    "        pytrend.build_payload(kw_list=[i])\n",
    "        \n",
    "        df_py_trend = pytrend.interest_over_time()\n",
    "        \n",
    "        df_py_trend.index = pd.to_datetime(df_py_trend.index)\n",
    "        df_py_trend['month'] = df_py_trend.index.month\n",
    "        df_py_trend['year'] = df_py_trend.index.year\n",
    "        df_py_trend['Date'] = pd.to_datetime(df_py_trend[['year', 'month']].assign(DAY=1))\n",
    "\n",
    "        ## Filtrar data\n",
    "        df_py_trend = df_py_trend[df_py_trend['Date'] >= start_date]\n",
    "\n",
    "        fig.add_trace(go.Box(y=df_py_trend[i].describe(), name=arr_prod_category[j]))\n",
    "        \n",
    "        j+=1\n",
    "        \n",
    "    fig.show()"
   ]
  },
  {
   "cell_type": "markdown",
   "metadata": {},
   "source": [
    "### Box Plot de cada categoria, entre as mais procuradas e menos procuradas"
   ]
  },
  {
   "cell_type": "code",
   "execution_count": null,
   "metadata": {
    "scrolled": false
   },
   "outputs": [],
   "source": [
    "arr = []\n",
    "arr.extend(produtos_menos_desejados)\n",
    "arr.extend(produtos_mais_desejados)\n",
    "print(arr)"
   ]
  },
  {
   "cell_type": "code",
   "execution_count": null,
   "metadata": {},
   "outputs": [],
   "source": [
    "plotTrendBoxPlot(arr, '2018-01-01')"
   ]
  },
  {
   "cell_type": "markdown",
   "metadata": {},
   "source": [
    "# Resultados da correlação entre a base de dados da OList e do Google Trends\n",
    "\n",
    "Para que possamos mostrar os nossos resultados criamos uma figura com gráfico de linha de box plot lado a lado para discorrer mais precisamente sobre os nossos dados"
   ]
  },
  {
   "cell_type": "code",
   "execution_count": null,
   "metadata": {},
   "outputs": [],
   "source": [
    "def plotLineBoxPerCategory(category, date):\n",
    "    pytrend = TrendReq()\n",
    "    pytrend.build_payload(kw_list=[category])\n",
    "    df_py_trend = pytrend.interest_over_time()\n",
    "    \n",
    "    df_py_trend.index = pd.to_datetime(df_py_trend.index)\n",
    "    df_py_trend['month'] = df_py_trend.index.month\n",
    "    df_py_trend['year'] = df_py_trend.index.year\n",
    "    df_py_trend['Date'] = pd.to_datetime(df_py_trend[['year', 'month']].assign(DAY=1))\n",
    "\n",
    "    ## Filtrar data\n",
    "    df_py_trend = df_py_trend[df_py_trend['Date'] >= start_date]\n",
    "    \n",
    "    fig = make_subplots(rows=1, cols=2)\n",
    "    \n",
    "    ###### Gráfico de linha\n",
    "    fig.add_trace(go.Scatter(x=df_py_trend.index, y=df_py_trend[category],\n",
    "            mode='lines',\n",
    "            name=category),\n",
    "            row=1, col=1)\n",
    "    \n",
    "    ###### Box Plot\n",
    "    fig.add_trace(go.Box(y=df_py_trend[category].describe(), name=category),\n",
    "                 row=1, col=2)\n",
    "    \n",
    "    fig.update_layout(height=600, width=1000, title_text=\"Line and Box plot per category\")\n",
    "    fig.show()\n"
   ]
  },
  {
   "cell_type": "markdown",
   "metadata": {},
   "source": [
    "### Artigos de natal\n",
    "\n",
    "É perceptível que os artigos de natal tiveram um pico de pesquisa no final do ano de 2018/2019, o que ja era esperado dado que estavámos perto do período do Natal. Tais picos justificam o outlier(ponto isolado) no gráfico a direita (Box Plot). É notado também que houve um leve decrescimento no periódo da quarentena, mas nada muito chamativo. Portanto:\n",
    "\n",
    "Essa é uma categoria a qual está entre as <strong>menos procuradas</strong> na tabela da OList, e continou com uma <strong>baixa</strong> demanda durante o perído da quarentena. "
   ]
  },
  {
   "cell_type": "code",
   "execution_count": null,
   "metadata": {
    "scrolled": false
   },
   "outputs": [],
   "source": [
    "plotLineBoxPerCategory('artigos de natal', '2018-01-01')"
   ]
  },
  {
   "cell_type": "markdown",
   "metadata": {},
   "source": [
    "### Flores\n",
    "\n",
    "É perceptível que flores tiveram um pico de pesquisa em Maio de 2020. Vale destacar que esse pico foi o maior registrado nos últimos anos. Como pode ser visto pelo limite superior do box plot que nos indica uma procura máxima com o valor de 100. Além disso, houveram duas queda bruscas em Janeiro e Março. E no restante dos meses tivemos uma flutuação na demanda por esse produto. Portanto:\n",
    "\n",
    "Essa é uma categoria a qual está entre as <strong>menos procuradas</strong> na tabela da OList, e apresentou um <strong>aumento</strong> em sua demanda durante o perído de Março, e apresentou <strong>também</strong> uma <strong>baixa</strong> no período de Março. "
   ]
  },
  {
   "cell_type": "code",
   "execution_count": null,
   "metadata": {},
   "outputs": [],
   "source": [
    "plotLineBoxPerCategory('flores', '2018-01-01')"
   ]
  },
  {
   "cell_type": "markdown",
   "metadata": {},
   "source": [
    "### Instrumentos musicais\n",
    "\n",
    "Essa categoria de produto apresentou um crescimento enorme durante o perído da quarentena. Nos primeiros meses de Jan/2020 até Março/2020 houve uma queda, mas logo em seguida a sua demanda atingiu o seu maior valor em 2 anos.\n",
    "\n",
    "Essa é uma categoria a qual está entre as <strong>menos procuradas</strong> na tabela da OList, e apresentou um <strong>aumento</strong> em sua demanda durante todo o período da quarentena."
   ]
  },
  {
   "cell_type": "code",
   "execution_count": null,
   "metadata": {},
   "outputs": [],
   "source": [
    "plotLineBoxPerCategory('instrumentos musicais', '2018-01-01')"
   ]
  },
  {
   "cell_type": "markdown",
   "metadata": {},
   "source": [
    "### Artigos de festa\n",
    "\n",
    "A categoria de artigos de festa sofreu uma queda em sua demanda durante o período da quarentena. Esse comportamento já era esperado dado que a indústria do entretenimento sofreu muito com as consequências do Covid19.\n",
    "\n",
    "Essa é uma categoria a qual está entre as <strong>menos procuradas</strong> na tabela da OList, e apresentou uma <strong>baixa</strong> em sua demanda durante o período da quarentena. \n"
   ]
  },
  {
   "cell_type": "code",
   "execution_count": null,
   "metadata": {},
   "outputs": [],
   "source": [
    "plotLineBoxPerCategory('artigos de festa', '2018-01-01')"
   ]
  },
  {
   "cell_type": "markdown",
   "metadata": {},
   "source": [
    "## Artes e artesanato\n",
    "\n",
    "Essa é uma categoria a qual está entre as <strong>menos procuradas</strong> na tabela da OList, e apresentou uma demanda <strong>constante</strong> durante o período da quarentena. "
   ]
  },
  {
   "cell_type": "code",
   "execution_count": null,
   "metadata": {},
   "outputs": [],
   "source": [
    "plotLineBoxPerCategory('artes e artesanato', '2018-01-01')"
   ]
  },
  {
   "cell_type": "markdown",
   "metadata": {},
   "source": [
    "## Produtos de banho\n",
    "\n",
    "Essa é uma categoria a qual está entre as <strong>mais procuradas</strong> na tabela da OList, e apresentou uma demanda <strong>maior</strong> durante o período da quarentena. "
   ]
  },
  {
   "cell_type": "code",
   "execution_count": null,
   "metadata": {},
   "outputs": [],
   "source": [
    "plotLineBoxPerCategory('produtos de banho', '2018-01-01')"
   ]
  },
  {
   "cell_type": "markdown",
   "metadata": {},
   "source": [
    "## Cama\n",
    "\n",
    "Pela análise do Box plot, podemos perceber que a média de procura por camas está muito abaixo do valor de seu pico durante a quarentena. \n",
    "\n",
    "Essa é uma categoria a qual está entre as <strong>mais procuradas</strong> na tabela da OList, e apresentou um crescimento em demanda <strong>muito maior</strong> durante o período da quarentena. "
   ]
  },
  {
   "cell_type": "code",
   "execution_count": null,
   "metadata": {},
   "outputs": [],
   "source": [
    "plotLineBoxPerCategory('cama', '2018-01-01')"
   ]
  },
  {
   "cell_type": "markdown",
   "metadata": {},
   "source": [
    "## Mesa\n",
    "\n",
    "Essa categoria apresentou um comportamento curioso, dado que os seus menores e maiores valores durante os dois ultimos anos ocorreu durante a quarentena. Tal fato pode ser observado com mais detalhe ao se analisar a média do Box PLot que pernasse quase centralizada\n",
    "\n",
    "\n",
    "Essa é uma categoria a qual está entre as <strong>mais procuradas</strong> na tabela da OList. Apresentou um <strong>crescimento</strong> durante o período de Maio/2020, contudo apresentou também um <strong>decrescimento</strong> durante o período de Março."
   ]
  },
  {
   "cell_type": "code",
   "execution_count": null,
   "metadata": {},
   "outputs": [],
   "source": [
    "plotLineBoxPerCategory('mesa', '2018-01-01')"
   ]
  },
  {
   "cell_type": "markdown",
   "metadata": {},
   "source": [
    "## Móveis\n",
    "\n",
    "\n",
    "Pela análise do Box plot, podemos perceber que a média de procura por móveis está muito abaixo do valor de seu pico durante a quarentena. \n",
    "\n",
    "Essa é uma categoria a qual está entre as <strong>mais procuradas</strong> na tabela da OList, e apresentou um crescimento em demanda <strong>muito maior</strong> durante o período da quarentena. "
   ]
  },
  {
   "cell_type": "code",
   "execution_count": null,
   "metadata": {},
   "outputs": [],
   "source": [
    "plotLineBoxPerCategory('móveis', '2018-01-01')"
   ]
  },
  {
   "cell_type": "markdown",
   "metadata": {},
   "source": [
    "## Produtos de beleza\n",
    "\n",
    "Essa categoria de produto apresentou um comportamento interessante, dado que a sua demanda aumentou durante o período da quarentena, mas ao invés de cair se manteve constante. Pode ser visualizado pelo vox plot que não temos um valor máximo muito distante da média, a média foi elevada pelo número de procuras ter aumentado como um todo no perído Abril/2020 até Jul/2020\n",
    "\n",
    "Essa é uma categoria a qual está entre as <strong>mais procuradas</strong> na tabela da OList, e apresentou um crescimento em demanda <strong>pouco maior</strong> durante o período da quarentena, contudo manteve suas procuras em uma média mais alta. \n"
   ]
  },
  {
   "cell_type": "code",
   "execution_count": null,
   "metadata": {},
   "outputs": [],
   "source": [
    "plotLineBoxPerCategory('produtos de beleza', '2018-01-01')"
   ]
  },
  {
   "cell_type": "markdown",
   "metadata": {},
   "source": [
    "## Análise da correlação entre a tabela da OList de do serviço Google Trends em um ponto de vista estadual"
   ]
  },
  {
   "cell_type": "markdown",
   "metadata": {},
   "source": [
    "Definição da dicionário de estados"
   ]
  },
  {
   "cell_type": "code",
   "execution_count": null,
   "metadata": {},
   "outputs": [],
   "source": [
    "state_dict = {\n",
    "    'AC': 'Acre',\n",
    "    'AL': 'Alagoas',\n",
    "    'AP': 'Amapá',\n",
    "    'AM': 'Amazonas',\n",
    "    'BA': 'Bahia',\n",
    "    'CE': 'Ceará',\n",
    "    'DF': 'Distrito Federal',\n",
    "    'ES': 'Espírito Santo',\n",
    "    'GO': 'Goiás',\n",
    "    'MA': 'Maranhão',\n",
    "    'MT': 'Mato Grosso',\n",
    "    'MS': 'Mato Grosso do Sul',\n",
    "    'MG': 'Minas Gerais',\n",
    "    'PA': 'Pará',\n",
    "    'PB': 'Paraíba',\n",
    "    'PR': 'Paraná',\n",
    "    'PE': 'Pernambuco',\n",
    "    'PI': 'Piauí',\n",
    "    'RJ': 'Rio de Janeiro',\n",
    "    'RN': 'Rio Grande do Norte',\n",
    "    'RS': 'Rio Grande do Sul',\n",
    "    'RO': 'Rondônia',\n",
    "    'RR': 'Roraima',\n",
    "    'SC': 'Santa Catarina',\n",
    "    'SP': 'São Paulo',\n",
    "    'SE': 'Sergipe',\n",
    "    'TO': 'Tocantins'\n",
    "}"
   ]
  },
  {
   "cell_type": "markdown",
   "metadata": {},
   "source": [
    "Abaixo temos algumas funções utilizadas para criar o mapa de calor. Logo, em seguida temos o mapa de calor para cada categoria de produto seccionado por ano."
   ]
  },
  {
   "cell_type": "code",
   "execution_count": null,
   "metadata": {},
   "outputs": [],
   "source": [
    "def stateTrendsDataFrame(start_date, end_date, category, state_dict):\n",
    "    df = pd.DataFrame()\n",
    "    frames = []\n",
    "    \n",
    "    for k, v in state_dict.items():\n",
    "        kw_list = [category]\n",
    "        estado = 'BR-' + k\n",
    "        pytrend = TrendReq()\n",
    "        pytrend.build_payload(kw_list, cat=0, timeframe='today 5-y', geo=estado, gprop='')\n",
    "        df_trends_estado = pytrend.interest_over_time()\n",
    "        \n",
    "        if not df_trends_estado.empty:\n",
    "            df_trends_estado['estado'] = k\n",
    "\n",
    "            df_trends_estado.index = pd.to_datetime(df_trends_estado.index)\n",
    "            df_trends_estado['month'] = df_trends_estado.index.month\n",
    "            df_trends_estado['year'] = df_trends_estado.index.year\n",
    "            df_trends_estado['Date'] = pd.to_datetime(df_trends_estado[['year', 'month']].assign(DAY=1))\n",
    "\n",
    "            ## Filtrar data\n",
    "            df_trends_estado = df_trends_estado[df_trends_estado['Date'] >= start_date]\n",
    "            df_trends_estado = df_trends_estado[df_trends_estado['Date'] < end_date]\n",
    "            df_trends_estado = df_trends_estado.groupby(by=['year', 'estado']).mean()\n",
    "            df_trends_estado = df_trends_estado[[category]]\n",
    "            df_trends_estado = df_trends_estado.reset_index()\n",
    "\n",
    "            frames.append(df_trends_estado)\n",
    "        else:\n",
    "            df_trends_estado_ = pd.DataFrame()\n",
    "            dic = {\n",
    "                'year': [start_date[:4]],\n",
    "                'estado': k,\n",
    "                category: [0]\n",
    "            }\n",
    "\n",
    "            df_trends_estado_ = pd.DataFrame(dic, columns = ['year', 'estado', category])\n",
    "            df_trends_estado_ = df_trends_estado_.groupby(by=['year', 'estado']).mean()\n",
    "            df_trends_estado_ = df_trends_estado_.reset_index()\n",
    "\n",
    "            frames.append(df_trends_estado_)\n",
    "    \n",
    "    df = pd.concat(frames)\n",
    "    \n",
    "    return df "
   ]
  },
  {
   "cell_type": "code",
   "execution_count": null,
   "metadata": {},
   "outputs": [],
   "source": [
    "category = 'produtos de beleza'\n",
    "\n",
    "#### Dados de 2018\n",
    "start_date = '2018-01-01'\n",
    "end_date = '2019-01-01'\n",
    "df_trends_estado_2018 = stateTrendsDataFrame(start_date, end_date, category, state_dict)\n",
    "\n",
    "#### Dados de 2019\n",
    "start_date = '2019-01-01'\n",
    "end_date = '2020-01-01'\n",
    "df_trends_estado_2019 = stateTrendsDataFrame(start_date, end_date, category, state_dict)\n",
    "\n",
    "#### Dados de 2020\n",
    "start_date = '2020-01-01'\n",
    "end_date = '2020-07-01'\n",
    "df_trends_estado_2020 = stateTrendsDataFrame(start_date, end_date, category, state_dict)"
   ]
  },
  {
   "cell_type": "code",
   "execution_count": null,
   "metadata": {},
   "outputs": [],
   "source": [
    "df_trends_estado_2018_cp = df_trends_estado_2018.copy()\n",
    "df_trends_estado_2019_cp = df_trends_estado_2019.copy()\n",
    "df_trends_estado_2020_cp = df_trends_estado_2020.copy()\n",
    "df_arr = [df_trends_estado_2018_cp, df_trends_estado_2019_cp, df_trends_estado_2020_cp]"
   ]
  },
  {
   "cell_type": "code",
   "execution_count": null,
   "metadata": {},
   "outputs": [],
   "source": [
    "def catergoryMap(category, df_arr, year):\n",
    "    \n",
    "    for df in df_arr:\n",
    "        max_arr = []\n",
    "        max_arr.append(df[category].max())\n",
    "    maximum = max(max_arr)\n",
    "\n",
    "    colormap = linear.YlOrRd_09.scale(0,maximum)\n",
    "        \n",
    "    mapa = folium.Map(\n",
    "        width=600, height=400,\n",
    "        location=[-15.77972, -47.92972], \n",
    "        zoom_start=4\n",
    "    )\n",
    "    \n",
    "    j = 1\n",
    "    for df in df_arr:\n",
    "        df = df.set_index('estado')[category]\n",
    "        folium.GeoJson(\n",
    "            geo_json_data,\n",
    "            name=year,\n",
    "            style_function=lambda feature: {\n",
    "                'fillColor': colormap(df[feature['id']]),\n",
    "                'color': 'black',\n",
    "                'weight': 0.3,\n",
    "            }\n",
    "\n",
    "        ).add_to(mapa)\n",
    "        colormap.caption = 'Interesse em {} por estado em {}'.format(category, year)\n",
    "        colormap.add_to(mapa)\n",
    "        \n",
    "        year += j\n",
    "    folium.LayerControl(collapsed=False).add_to(mapa)\n",
    "\n",
    "    return mapa"
   ]
  },
  {
   "cell_type": "code",
   "execution_count": null,
   "metadata": {},
   "outputs": [],
   "source": [
    "def plotCategory(category):\n",
    "    #### Dados de 2018\n",
    "    start_date = '2018-01-01'\n",
    "    end_date = '2019-01-01'\n",
    "    df_trends_estado_2018 = stateTrendsDataFrame(start_date, end_date, category, state_dict)\n",
    "\n",
    "    #### Dados de 2019\n",
    "    start_date = '2019-01-01'\n",
    "    end_date = '2020-01-01'\n",
    "    df_trends_estado_2019 = stateTrendsDataFrame(start_date, end_date, category, state_dict)\n",
    "\n",
    "    #### Dados de 2020\n",
    "    start_date = '2020-01-01'\n",
    "    end_date = '2020-07-01'\n",
    "    df_trends_estado_2020 = stateTrendsDataFrame(start_date, end_date, category, state_dict)\n",
    "    \n",
    "    df_trends_estado_2018_cp = df_trends_estado_2018.copy()\n",
    "    df_trends_estado_2019_cp = df_trends_estado_2019.copy()\n",
    "    df_trends_estado_2020_cp = df_trends_estado_2020.copy()\n",
    "    df_arr = [df_trends_estado_2018_cp, df_trends_estado_2019_cp, df_trends_estado_2020_cp]\n",
    "    \n",
    "    return catergoryMap(category, df_arr, 2018)"
   ]
  },
  {
   "cell_type": "markdown",
   "metadata": {},
   "source": [
    "## Intruções\n",
    "\n",
    "Os mapas abaixo possuem uma funcionalidade para marcar o ano que o usuário deseja ver. O gráfico começa fazendo um overlap de todos os anos por região. Logo, para analisar o comportamento de cada categoria de produto por região, basta selecionar o ano desejado Ex: 2018/2019/2020"
   ]
  },
  {
   "cell_type": "markdown",
   "metadata": {},
   "source": [
    "### Artigos de natal"
   ]
  },
  {
   "cell_type": "code",
   "execution_count": null,
   "metadata": {},
   "outputs": [],
   "source": [
    "plotCategory('artigos de natal')"
   ]
  },
  {
   "cell_type": "markdown",
   "metadata": {},
   "source": [
    "### Flores"
   ]
  },
  {
   "cell_type": "code",
   "execution_count": null,
   "metadata": {},
   "outputs": [],
   "source": [
    "plotCategory('flores')"
   ]
  },
  {
   "cell_type": "markdown",
   "metadata": {},
   "source": [
    "### Instrumentos musicais"
   ]
  },
  {
   "cell_type": "code",
   "execution_count": null,
   "metadata": {},
   "outputs": [],
   "source": [
    "plotCategory('intrumentos musicais')"
   ]
  },
  {
   "cell_type": "markdown",
   "metadata": {},
   "source": [
    "### Artigos de festa"
   ]
  },
  {
   "cell_type": "code",
   "execution_count": null,
   "metadata": {},
   "outputs": [],
   "source": [
    "plotCategory('artigos de festa')"
   ]
  },
  {
   "cell_type": "markdown",
   "metadata": {},
   "source": [
    "### Artes e artesanato"
   ]
  },
  {
   "cell_type": "code",
   "execution_count": null,
   "metadata": {},
   "outputs": [],
   "source": [
    "plotCategory('artes e artesanato')"
   ]
  },
  {
   "cell_type": "markdown",
   "metadata": {},
   "source": [
    "### Produtos de banho"
   ]
  },
  {
   "cell_type": "code",
   "execution_count": null,
   "metadata": {},
   "outputs": [],
   "source": [
    "plotCategory('produtos de banho')"
   ]
  },
  {
   "cell_type": "markdown",
   "metadata": {},
   "source": [
    "### Cama"
   ]
  },
  {
   "cell_type": "code",
   "execution_count": null,
   "metadata": {},
   "outputs": [],
   "source": [
    "plotCategory('cama')"
   ]
  },
  {
   "cell_type": "markdown",
   "metadata": {},
   "source": [
    "### Mesa"
   ]
  },
  {
   "cell_type": "code",
   "execution_count": null,
   "metadata": {},
   "outputs": [],
   "source": [
    "plotCategory('mesa')"
   ]
  },
  {
   "cell_type": "markdown",
   "metadata": {},
   "source": [
    "### Móveis"
   ]
  },
  {
   "cell_type": "code",
   "execution_count": null,
   "metadata": {},
   "outputs": [],
   "source": [
    "plotCategory('móveis')"
   ]
  },
  {
   "cell_type": "markdown",
   "metadata": {},
   "source": [
    "### Produtos de beleza\n"
   ]
  },
  {
   "cell_type": "code",
   "execution_count": null,
   "metadata": {},
   "outputs": [],
   "source": [
    "plotCategory('produto de beleza')"
   ]
  },
  {
   "cell_type": "markdown",
   "metadata": {},
   "source": [
    "# Conclusão da correlação entre a tabela da OList e do serviço Google trends\n",
    "\n",
    "Foi selecionados 10 categorias de produtos para realizarmos as nossas análises. Escolhemos categorias de produtos entre as mais procuradas e as menos procuradas em um dos maiores market places do Brasil. Alguns resultados por categorias de produtos já eram esperadas, contudo outras nos chamaram atenção dado o seu crescimento em sua demanda inusitado ou um crescimento em sua demanda de maneira muito abrusca.\n",
    "\n",
    "\n",
    "Com os insights obtidos acima podemos auxiliar e muito todos os empreendedores e pequenas empresas que comercializam esses produtos. \n",
    "\n",
    "<strong>Como?</strong>\n",
    "\n",
    "É muito comum o pequeno(a) empreendedor se basear em suas decisões de negócio na sua intuição ou em sua experiência de mercado. Com as análises feitas podemos perceber de maneira muito mais precisa e realista o que aconteceu com as categorias de produtos nos últimos dois anos. Assim, podemos levar informações valiosas que ajuarão e muito os pequenos a médio empreendedores"
   ]
  },
  {
   "cell_type": "code",
   "execution_count": null,
   "metadata": {},
   "outputs": [],
   "source": []
  },
  {
   "cell_type": "code",
   "execution_count": null,
   "metadata": {},
   "outputs": [],
   "source": []
  }
 ],
 "metadata": {
  "kernelspec": {
   "display_name": "Python 3",
   "language": "python",
   "name": "python3"
  },
  "language_info": {
   "codemirror_mode": {
    "name": "ipython",
    "version": 3
   },
   "file_extension": ".py",
   "mimetype": "text/x-python",
   "name": "python",
   "nbconvert_exporter": "python",
   "pygments_lexer": "ipython3",
   "version": "3.7.6"
  }
 },
 "nbformat": 4,
 "nbformat_minor": 4
}
